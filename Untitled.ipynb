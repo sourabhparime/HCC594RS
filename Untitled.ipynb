{
 "cells": [
  {
   "cell_type": "code",
   "execution_count": 1,
   "metadata": {},
   "outputs": [],
   "source": [
    "import pandas as pd"
   ]
  },
  {
   "cell_type": "code",
   "execution_count": 2,
   "metadata": {},
   "outputs": [],
   "source": [
    "sim = pd.read_csv(\"similarity.csv\")"
   ]
  },
  {
   "cell_type": "code",
   "execution_count": 3,
   "metadata": {},
   "outputs": [],
   "source": [
    "sim.describe()\n",
    "sim = sim.round(3)"
   ]
  },
  {
   "cell_type": "code",
   "execution_count": 4,
   "metadata": {},
   "outputs": [
    {
     "data": {
      "text/plain": [
       "Index(['user_handle', '1', '2', '3', '4', '5', '6', '7', '8', '9',\n",
       "       ...\n",
       "       '8751', '8752', '8753', '8754', '8755', '8756', '8757', '8758', '8759',\n",
       "       '8760'],\n",
       "      dtype='object', length=8761)"
      ]
     },
     "execution_count": 4,
     "metadata": {},
     "output_type": "execute_result"
    }
   ],
   "source": [
    "sim.columns"
   ]
  },
  {
   "cell_type": "code",
   "execution_count": 5,
   "metadata": {},
   "outputs": [
    {
     "data": {
      "text/plain": [
       "(8760, 8761)"
      ]
     },
     "execution_count": 5,
     "metadata": {},
     "output_type": "execute_result"
    }
   ],
   "source": [
    "sim.shape"
   ]
  },
  {
   "cell_type": "code",
   "execution_count": 6,
   "metadata": {},
   "outputs": [
    {
     "data": {
      "text/html": [
       "<div>\n",
       "<style scoped>\n",
       "    .dataframe tbody tr th:only-of-type {\n",
       "        vertical-align: middle;\n",
       "    }\n",
       "\n",
       "    .dataframe tbody tr th {\n",
       "        vertical-align: top;\n",
       "    }\n",
       "\n",
       "    .dataframe thead th {\n",
       "        text-align: right;\n",
       "    }\n",
       "</style>\n",
       "<table border=\"1\" class=\"dataframe\">\n",
       "  <thead>\n",
       "    <tr style=\"text-align: right;\">\n",
       "      <th></th>\n",
       "      <th>user_handle</th>\n",
       "      <th>1</th>\n",
       "      <th>2</th>\n",
       "      <th>3</th>\n",
       "      <th>4</th>\n",
       "      <th>5</th>\n",
       "      <th>6</th>\n",
       "      <th>7</th>\n",
       "      <th>8</th>\n",
       "      <th>9</th>\n",
       "      <th>...</th>\n",
       "      <th>8751</th>\n",
       "      <th>8752</th>\n",
       "      <th>8753</th>\n",
       "      <th>8754</th>\n",
       "      <th>8755</th>\n",
       "      <th>8756</th>\n",
       "      <th>8757</th>\n",
       "      <th>8758</th>\n",
       "      <th>8759</th>\n",
       "      <th>8760</th>\n",
       "    </tr>\n",
       "  </thead>\n",
       "  <tbody>\n",
       "    <tr>\n",
       "      <th>0</th>\n",
       "      <td>1</td>\n",
       "      <td>1.000</td>\n",
       "      <td>0.036</td>\n",
       "      <td>0.005</td>\n",
       "      <td>0.303</td>\n",
       "      <td>0.208</td>\n",
       "      <td>0.247</td>\n",
       "      <td>0.356</td>\n",
       "      <td>0.075</td>\n",
       "      <td>0.081</td>\n",
       "      <td>...</td>\n",
       "      <td>0.084</td>\n",
       "      <td>0.260</td>\n",
       "      <td>0.061</td>\n",
       "      <td>0.579</td>\n",
       "      <td>0.096</td>\n",
       "      <td>0.119</td>\n",
       "      <td>0.116</td>\n",
       "      <td>0.215</td>\n",
       "      <td>0.601</td>\n",
       "      <td>0.593</td>\n",
       "    </tr>\n",
       "    <tr>\n",
       "      <th>1</th>\n",
       "      <td>2</td>\n",
       "      <td>0.036</td>\n",
       "      <td>1.000</td>\n",
       "      <td>0.001</td>\n",
       "      <td>0.022</td>\n",
       "      <td>0.155</td>\n",
       "      <td>0.027</td>\n",
       "      <td>0.033</td>\n",
       "      <td>0.009</td>\n",
       "      <td>0.020</td>\n",
       "      <td>...</td>\n",
       "      <td>0.016</td>\n",
       "      <td>0.021</td>\n",
       "      <td>0.014</td>\n",
       "      <td>0.039</td>\n",
       "      <td>0.011</td>\n",
       "      <td>0.016</td>\n",
       "      <td>0.014</td>\n",
       "      <td>0.103</td>\n",
       "      <td>0.045</td>\n",
       "      <td>0.044</td>\n",
       "    </tr>\n",
       "    <tr>\n",
       "      <th>2</th>\n",
       "      <td>3</td>\n",
       "      <td>0.005</td>\n",
       "      <td>0.001</td>\n",
       "      <td>1.000</td>\n",
       "      <td>0.002</td>\n",
       "      <td>0.003</td>\n",
       "      <td>0.003</td>\n",
       "      <td>0.005</td>\n",
       "      <td>0.001</td>\n",
       "      <td>0.001</td>\n",
       "      <td>...</td>\n",
       "      <td>0.001</td>\n",
       "      <td>0.003</td>\n",
       "      <td>0.001</td>\n",
       "      <td>0.006</td>\n",
       "      <td>0.001</td>\n",
       "      <td>0.007</td>\n",
       "      <td>0.031</td>\n",
       "      <td>0.003</td>\n",
       "      <td>0.008</td>\n",
       "      <td>0.008</td>\n",
       "    </tr>\n",
       "    <tr>\n",
       "      <th>3</th>\n",
       "      <td>4</td>\n",
       "      <td>0.303</td>\n",
       "      <td>0.022</td>\n",
       "      <td>0.002</td>\n",
       "      <td>1.000</td>\n",
       "      <td>0.068</td>\n",
       "      <td>0.082</td>\n",
       "      <td>0.145</td>\n",
       "      <td>0.032</td>\n",
       "      <td>0.048</td>\n",
       "      <td>...</td>\n",
       "      <td>0.041</td>\n",
       "      <td>0.078</td>\n",
       "      <td>0.022</td>\n",
       "      <td>0.142</td>\n",
       "      <td>0.029</td>\n",
       "      <td>0.380</td>\n",
       "      <td>0.036</td>\n",
       "      <td>0.066</td>\n",
       "      <td>0.179</td>\n",
       "      <td>0.176</td>\n",
       "    </tr>\n",
       "    <tr>\n",
       "      <th>4</th>\n",
       "      <td>5</td>\n",
       "      <td>0.208</td>\n",
       "      <td>0.155</td>\n",
       "      <td>0.003</td>\n",
       "      <td>0.068</td>\n",
       "      <td>1.000</td>\n",
       "      <td>0.128</td>\n",
       "      <td>0.198</td>\n",
       "      <td>0.032</td>\n",
       "      <td>0.030</td>\n",
       "      <td>...</td>\n",
       "      <td>0.048</td>\n",
       "      <td>0.140</td>\n",
       "      <td>0.027</td>\n",
       "      <td>0.258</td>\n",
       "      <td>0.053</td>\n",
       "      <td>0.066</td>\n",
       "      <td>0.068</td>\n",
       "      <td>0.121</td>\n",
       "      <td>0.333</td>\n",
       "      <td>0.320</td>\n",
       "    </tr>\n",
       "  </tbody>\n",
       "</table>\n",
       "<p>5 rows × 8761 columns</p>\n",
       "</div>"
      ],
      "text/plain": [
       "   user_handle      1      2      3      4      5      6      7      8      9  \\\n",
       "0            1  1.000  0.036  0.005  0.303  0.208  0.247  0.356  0.075  0.081   \n",
       "1            2  0.036  1.000  0.001  0.022  0.155  0.027  0.033  0.009  0.020   \n",
       "2            3  0.005  0.001  1.000  0.002  0.003  0.003  0.005  0.001  0.001   \n",
       "3            4  0.303  0.022  0.002  1.000  0.068  0.082  0.145  0.032  0.048   \n",
       "4            5  0.208  0.155  0.003  0.068  1.000  0.128  0.198  0.032  0.030   \n",
       "\n",
       "   ...     8751   8752   8753   8754   8755   8756   8757   8758   8759   8760  \n",
       "0  ...    0.084  0.260  0.061  0.579  0.096  0.119  0.116  0.215  0.601  0.593  \n",
       "1  ...    0.016  0.021  0.014  0.039  0.011  0.016  0.014  0.103  0.045  0.044  \n",
       "2  ...    0.001  0.003  0.001  0.006  0.001  0.007  0.031  0.003  0.008  0.008  \n",
       "3  ...    0.041  0.078  0.022  0.142  0.029  0.380  0.036  0.066  0.179  0.176  \n",
       "4  ...    0.048  0.140  0.027  0.258  0.053  0.066  0.068  0.121  0.333  0.320  \n",
       "\n",
       "[5 rows x 8761 columns]"
      ]
     },
     "execution_count": 6,
     "metadata": {},
     "output_type": "execute_result"
    }
   ],
   "source": [
    "sim.head(5)"
   ]
  },
  {
   "cell_type": "code",
   "execution_count": 7,
   "metadata": {},
   "outputs": [
    {
     "data": {
      "text/plain": [
       "pandas.core.frame.DataFrame"
      ]
     },
     "execution_count": 7,
     "metadata": {},
     "output_type": "execute_result"
    }
   ],
   "source": [
    "type(sim)"
   ]
  },
  {
   "cell_type": "code",
   "execution_count": 8,
   "metadata": {},
   "outputs": [
    {
     "data": {
      "text/plain": [
       "False"
      ]
     },
     "execution_count": 8,
     "metadata": {},
     "output_type": "execute_result"
    }
   ],
   "source": [
    "sim.isnull().values.any()"
   ]
  },
  {
   "cell_type": "code",
   "execution_count": 9,
   "metadata": {},
   "outputs": [],
   "source": [
    "users = list(sim.user_handle)"
   ]
  },
  {
   "cell_type": "code",
   "execution_count": 10,
   "metadata": {},
   "outputs": [
    {
     "data": {
      "text/plain": [
       "8760"
      ]
     },
     "execution_count": 10,
     "metadata": {},
     "output_type": "execute_result"
    }
   ],
   "source": [
    "len(users)"
   ]
  },
  {
   "cell_type": "code",
   "execution_count": 11,
   "metadata": {},
   "outputs": [
    {
     "data": {
      "text/html": [
       "<div>\n",
       "<style scoped>\n",
       "    .dataframe tbody tr th:only-of-type {\n",
       "        vertical-align: middle;\n",
       "    }\n",
       "\n",
       "    .dataframe tbody tr th {\n",
       "        vertical-align: top;\n",
       "    }\n",
       "\n",
       "    .dataframe thead th {\n",
       "        text-align: right;\n",
       "    }\n",
       "</style>\n",
       "<table border=\"1\" class=\"dataframe\">\n",
       "  <thead>\n",
       "    <tr style=\"text-align: right;\">\n",
       "      <th></th>\n",
       "      <th>user_handle</th>\n",
       "      <th>1</th>\n",
       "      <th>2</th>\n",
       "      <th>3</th>\n",
       "      <th>4</th>\n",
       "      <th>5</th>\n",
       "      <th>6</th>\n",
       "      <th>7</th>\n",
       "      <th>8</th>\n",
       "      <th>9</th>\n",
       "      <th>...</th>\n",
       "      <th>8751</th>\n",
       "      <th>8752</th>\n",
       "      <th>8753</th>\n",
       "      <th>8754</th>\n",
       "      <th>8755</th>\n",
       "      <th>8756</th>\n",
       "      <th>8757</th>\n",
       "      <th>8758</th>\n",
       "      <th>8759</th>\n",
       "      <th>8760</th>\n",
       "    </tr>\n",
       "  </thead>\n",
       "  <tbody>\n",
       "    <tr>\n",
       "      <th>0</th>\n",
       "      <td>1</td>\n",
       "      <td>1.0</td>\n",
       "      <td>0.036</td>\n",
       "      <td>0.005</td>\n",
       "      <td>0.303</td>\n",
       "      <td>0.208</td>\n",
       "      <td>0.247</td>\n",
       "      <td>0.356</td>\n",
       "      <td>0.075</td>\n",
       "      <td>0.081</td>\n",
       "      <td>...</td>\n",
       "      <td>0.084</td>\n",
       "      <td>0.26</td>\n",
       "      <td>0.061</td>\n",
       "      <td>0.579</td>\n",
       "      <td>0.096</td>\n",
       "      <td>0.119</td>\n",
       "      <td>0.116</td>\n",
       "      <td>0.215</td>\n",
       "      <td>0.601</td>\n",
       "      <td>0.593</td>\n",
       "    </tr>\n",
       "  </tbody>\n",
       "</table>\n",
       "<p>1 rows × 8761 columns</p>\n",
       "</div>"
      ],
      "text/plain": [
       "   user_handle    1      2      3      4      5      6      7      8      9  \\\n",
       "0            1  1.0  0.036  0.005  0.303  0.208  0.247  0.356  0.075  0.081   \n",
       "\n",
       "   ...     8751  8752   8753   8754   8755   8756   8757   8758   8759   8760  \n",
       "0  ...    0.084  0.26  0.061  0.579  0.096  0.119  0.116  0.215  0.601  0.593  \n",
       "\n",
       "[1 rows x 8761 columns]"
      ]
     },
     "execution_count": 11,
     "metadata": {},
     "output_type": "execute_result"
    }
   ],
   "source": [
    "sim[sim['user_handle']==1]"
   ]
  },
  {
   "cell_type": "code",
   "execution_count": 12,
   "metadata": {},
   "outputs": [],
   "source": [
    "appen = pd.DataFrame(columns=['user_handle']+[\"similar_\"+str(i) for i in range(1,11)])"
   ]
  },
  {
   "cell_type": "code",
   "execution_count": 15,
   "metadata": {},
   "outputs": [],
   "source": [
    "from collections import OrderedDict\n",
    "row_list =[]\n",
    "for user in users:\n",
    "    dt = sim[sim['user_handle']==user].to_dict(orient='records')\n",
    "    dt = dt[0]\n",
    "    dt = OrderedDict(sorted(dt.items(), key = lambda x: x[1], reverse=True))\n",
    "    #print(dt)\n",
    "    row = {}\n",
    "    row['user_handle'] = int(dt['user_handle'])\n",
    "    del dt['user_handle']\n",
    "    i = 0\n",
    "    for key, val in dt.items():\n",
    "        if i >=11: break\n",
    "        row[\"similar_\" + str(i)] = int(key)\n",
    "        i += 1\n",
    "    #print(row)\n",
    "    row_list.append(row)\n",
    "    #break\n",
    "app = pd.DataFrame(row_list)\n",
    "#print(app)\n",
    "appen = pd.concat([appen, app])\n",
    "#print(appen)    \n"
   ]
  },
  {
   "cell_type": "code",
   "execution_count": 16,
   "metadata": {},
   "outputs": [
    {
     "data": {
      "text/html": [
       "<div>\n",
       "<style scoped>\n",
       "    .dataframe tbody tr th:only-of-type {\n",
       "        vertical-align: middle;\n",
       "    }\n",
       "\n",
       "    .dataframe tbody tr th {\n",
       "        vertical-align: top;\n",
       "    }\n",
       "\n",
       "    .dataframe thead th {\n",
       "        text-align: right;\n",
       "    }\n",
       "</style>\n",
       "<table border=\"1\" class=\"dataframe\">\n",
       "  <thead>\n",
       "    <tr style=\"text-align: right;\">\n",
       "      <th></th>\n",
       "      <th>similar_0</th>\n",
       "      <th>similar_1</th>\n",
       "      <th>similar_10</th>\n",
       "      <th>similar_2</th>\n",
       "      <th>similar_3</th>\n",
       "      <th>similar_4</th>\n",
       "      <th>similar_5</th>\n",
       "      <th>similar_6</th>\n",
       "      <th>similar_7</th>\n",
       "      <th>similar_8</th>\n",
       "      <th>similar_9</th>\n",
       "      <th>user_handle</th>\n",
       "    </tr>\n",
       "  </thead>\n",
       "  <tbody>\n",
       "    <tr>\n",
       "      <th>0</th>\n",
       "      <td>1.0</td>\n",
       "      <td>5460</td>\n",
       "      <td>8011</td>\n",
       "      <td>1762</td>\n",
       "      <td>8054</td>\n",
       "      <td>1754</td>\n",
       "      <td>8444</td>\n",
       "      <td>2856</td>\n",
       "      <td>3651</td>\n",
       "      <td>3129</td>\n",
       "      <td>1734</td>\n",
       "      <td>1.0</td>\n",
       "    </tr>\n",
       "    <tr>\n",
       "      <th>1</th>\n",
       "      <td>2.0</td>\n",
       "      <td>268</td>\n",
       "      <td>527</td>\n",
       "      <td>5988</td>\n",
       "      <td>106</td>\n",
       "      <td>508</td>\n",
       "      <td>2400</td>\n",
       "      <td>8031</td>\n",
       "      <td>1345</td>\n",
       "      <td>3403</td>\n",
       "      <td>8331</td>\n",
       "      <td>2.0</td>\n",
       "    </tr>\n",
       "    <tr>\n",
       "      <th>2</th>\n",
       "      <td>3.0</td>\n",
       "      <td>2996</td>\n",
       "      <td>5444</td>\n",
       "      <td>1292</td>\n",
       "      <td>901</td>\n",
       "      <td>1954</td>\n",
       "      <td>8324</td>\n",
       "      <td>8681</td>\n",
       "      <td>2837</td>\n",
       "      <td>5606</td>\n",
       "      <td>1986</td>\n",
       "      <td>3.0</td>\n",
       "    </tr>\n",
       "    <tr>\n",
       "      <th>3</th>\n",
       "      <td>4.0</td>\n",
       "      <td>8305</td>\n",
       "      <td>7562</td>\n",
       "      <td>5314</td>\n",
       "      <td>5733</td>\n",
       "      <td>1911</td>\n",
       "      <td>5393</td>\n",
       "      <td>6219</td>\n",
       "      <td>1553</td>\n",
       "      <td>2119</td>\n",
       "      <td>6164</td>\n",
       "      <td>4.0</td>\n",
       "    </tr>\n",
       "    <tr>\n",
       "      <th>4</th>\n",
       "      <td>5.0</td>\n",
       "      <td>4474</td>\n",
       "      <td>2384</td>\n",
       "      <td>1895</td>\n",
       "      <td>585</td>\n",
       "      <td>4530</td>\n",
       "      <td>6480</td>\n",
       "      <td>6832</td>\n",
       "      <td>515</td>\n",
       "      <td>7954</td>\n",
       "      <td>2003</td>\n",
       "      <td>5.0</td>\n",
       "    </tr>\n",
       "  </tbody>\n",
       "</table>\n",
       "</div>"
      ],
      "text/plain": [
       "   similar_0 similar_1 similar_10 similar_2 similar_3 similar_4 similar_5  \\\n",
       "0        1.0      5460       8011      1762      8054      1754      8444   \n",
       "1        2.0       268        527      5988       106       508      2400   \n",
       "2        3.0      2996       5444      1292       901      1954      8324   \n",
       "3        4.0      8305       7562      5314      5733      1911      5393   \n",
       "4        5.0      4474       2384      1895       585      4530      6480   \n",
       "\n",
       "  similar_6 similar_7 similar_8 similar_9  user_handle  \n",
       "0      2856      3651      3129      1734          1.0  \n",
       "1      8031      1345      3403      8331          2.0  \n",
       "2      8681      2837      5606      1986          3.0  \n",
       "3      6219      1553      2119      6164          4.0  \n",
       "4      6832       515      7954      2003          5.0  "
      ]
     },
     "execution_count": 16,
     "metadata": {},
     "output_type": "execute_result"
    }
   ],
   "source": [
    "appen.head(5)"
   ]
  },
  {
   "cell_type": "code",
   "execution_count": null,
   "metadata": {},
   "outputs": [],
   "source": []
  },
  {
   "cell_type": "code",
   "execution_count": null,
   "metadata": {},
   "outputs": [],
   "source": []
  }
 ],
 "metadata": {
  "kernelspec": {
   "display_name": "Python 3",
   "language": "python",
   "name": "python3"
  },
  "language_info": {
   "codemirror_mode": {
    "name": "ipython",
    "version": 3
   },
   "file_extension": ".py",
   "mimetype": "text/x-python",
   "name": "python",
   "nbconvert_exporter": "python",
   "pygments_lexer": "ipython3",
   "version": "3.5.5"
  },
  "widgets": {
   "state": {},
   "version": "1.1.2"
  }
 },
 "nbformat": 4,
 "nbformat_minor": 2
}
